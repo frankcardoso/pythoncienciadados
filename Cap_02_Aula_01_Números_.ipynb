{
  "nbformat": 4,
  "nbformat_minor": 0,
  "metadata": {
    "colab": {
      "name": "Cap 02-Aula 01- Números .ipynb",
      "provenance": [],
      "authorship_tag": "ABX9TyPEwNAESNyKQOM7bNFdmLoE",
      "include_colab_link": true
    },
    "kernelspec": {
      "name": "python3",
      "display_name": "Python 3"
    },
    "language_info": {
      "name": "python"
    }
  },
  "cells": [
    {
      "cell_type": "markdown",
      "metadata": {
        "id": "view-in-github",
        "colab_type": "text"
      },
      "source": [
        "<a href=\"https://colab.research.google.com/github/frankcardoso/pythoncienciadados/blob/main/Cap_02_Aula_01_N%C3%BAmeros_.ipynb\" target=\"_parent\"><img src=\"https://colab.research.google.com/assets/colab-badge.svg\" alt=\"Open In Colab\"/></a>"
      ]
    },
    {
      "cell_type": "markdown",
      "metadata": {
        "id": "5XtDUxV4-G3x"
      },
      "source": [
        "Números e Operações Matematicas"
      ]
    },
    {
      "cell_type": "code",
      "metadata": {
        "colab": {
          "base_uri": "https://localhost:8080/"
        },
        "id": "hT3O9Tvp9RI7",
        "outputId": "41968bcc-9432-48a1-aa5b-edd871eda203"
      },
      "source": [
        "#Soma\n",
        "4 + 4"
      ],
      "execution_count": 13,
      "outputs": [
        {
          "output_type": "execute_result",
          "data": {
            "text/plain": [
              "8"
            ]
          },
          "metadata": {},
          "execution_count": 13
        }
      ]
    },
    {
      "cell_type": "code",
      "metadata": {
        "colab": {
          "base_uri": "https://localhost:8080/"
        },
        "id": "7PheLlbI-GNY",
        "outputId": "87d3764d-6928-44b6-ffe4-d894006440d6"
      },
      "source": [
        "#Subração\n",
        "12 - 7.3"
      ],
      "execution_count": 14,
      "outputs": [
        {
          "output_type": "execute_result",
          "data": {
            "text/plain": [
              "4.7"
            ]
          },
          "metadata": {},
          "execution_count": 14
        }
      ]
    },
    {
      "cell_type": "code",
      "metadata": {
        "colab": {
          "base_uri": "https://localhost:8080/"
        },
        "id": "P6vrAx3j-7gI",
        "outputId": "2a46a5c9-4c22-40e0-c7d6-b7e5c4449803"
      },
      "source": [
        "#Multiplicação\n",
        "15 * 3"
      ],
      "execution_count": 15,
      "outputs": [
        {
          "output_type": "execute_result",
          "data": {
            "text/plain": [
              "45"
            ]
          },
          "metadata": {},
          "execution_count": 15
        }
      ]
    },
    {
      "cell_type": "code",
      "metadata": {
        "colab": {
          "base_uri": "https://localhost:8080/"
        },
        "id": "vgMHqiFN-_uT",
        "outputId": "96790ebe-3fd6-485a-f8c0-6d69d15eaaa7"
      },
      "source": [
        "#Potenciação\n",
        "15 ** 3"
      ],
      "execution_count": 16,
      "outputs": [
        {
          "output_type": "execute_result",
          "data": {
            "text/plain": [
              "3375"
            ]
          },
          "metadata": {},
          "execution_count": 16
        }
      ]
    },
    {
      "cell_type": "code",
      "metadata": {
        "colab": {
          "base_uri": "https://localhost:8080/"
        },
        "id": "II4WTgMm_Bv1",
        "outputId": "f4eb11e7-4ee6-4989-dc61-6a8322d87a23"
      },
      "source": [
        "10 ^ 3"
      ],
      "execution_count": 25,
      "outputs": [
        {
          "output_type": "execute_result",
          "data": {
            "text/plain": [
              "9"
            ]
          },
          "metadata": {},
          "execution_count": 25
        }
      ]
    },
    {
      "cell_type": "code",
      "metadata": {
        "colab": {
          "base_uri": "https://localhost:8080/"
        },
        "id": "m9_OEWny_E4e",
        "outputId": "adc123c2-6d53-4513-949a-9f92fa5163b6"
      },
      "source": [
        "33 % 6"
      ],
      "execution_count": 11,
      "outputs": [
        {
          "output_type": "execute_result",
          "data": {
            "text/plain": [
              "3"
            ]
          },
          "metadata": {},
          "execution_count": 11
        }
      ]
    },
    {
      "cell_type": "code",
      "metadata": {
        "colab": {
          "base_uri": "https://localhost:8080/"
        },
        "id": "r33cMW74_WXK",
        "outputId": "8786068c-44dc-4528-b725-bb03feb3898b"
      },
      "source": [
        "33 / 6"
      ],
      "execution_count": 12,
      "outputs": [
        {
          "output_type": "execute_result",
          "data": {
            "text/plain": [
              "5.5"
            ]
          },
          "metadata": {},
          "execution_count": 12
        }
      ]
    },
    {
      "cell_type": "code",
      "metadata": {
        "id": "4wBQu-f1_Z5t"
      },
      "source": [
        ""
      ],
      "execution_count": null,
      "outputs": []
    }
  ]
}