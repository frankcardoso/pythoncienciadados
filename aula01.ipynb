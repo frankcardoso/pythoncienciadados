{
 "cells": [
  {
   "cell_type": "markdown",
   "metadata": {},
   "source": [
    "## Primeiros comandos"
   ]
  },
  {
   "cell_type": "code",
   "execution_count": 1,
   "metadata": {},
   "outputs": [
    {
     "name": "stdout",
     "output_type": "stream",
     "text": [
      "Ola mundo!\n"
     ]
    }
   ],
   "source": [
    "print('Ola mundo!')"
   ]
  },
  {
   "cell_type": "code",
   "execution_count": 2,
   "metadata": {},
   "outputs": [
    {
     "data": {
      "text/plain": [
       "4"
      ]
     },
     "execution_count": 2,
     "metadata": {},
     "output_type": "execute_result"
    }
   ],
   "source": [
    "# Soma de dois números\n",
    "2 + 2 "
   ]
  },
  {
   "cell_type": "code",
   "execution_count": 3,
   "metadata": {},
   "outputs": [
    {
     "data": {
      "text/plain": [
       "6"
      ]
     },
     "execution_count": 3,
     "metadata": {},
     "output_type": "execute_result"
    }
   ],
   "source": [
    "# Multiplicação de dois números\n",
    "2 * 3"
   ]
  },
  {
   "cell_type": "code",
   "execution_count": 4,
   "metadata": {},
   "outputs": [
    {
     "data": {
      "text/plain": [
       "2.0"
      ]
     },
     "execution_count": 4,
     "metadata": {},
     "output_type": "execute_result"
    }
   ],
   "source": [
    "# Divisão de dois números\n",
    "10 / 5"
   ]
  },
  {
   "cell_type": "code",
   "execution_count": 5,
   "metadata": {},
   "outputs": [
    {
     "data": {
      "text/plain": [
       "18"
      ]
     },
     "execution_count": 5,
     "metadata": {},
     "output_type": "execute_result"
    }
   ],
   "source": [
    "# Subtração de dois números\n",
    "23 - 5"
   ]
  },
  {
   "cell_type": "code",
   "execution_count": 6,
   "metadata": {},
   "outputs": [
    {
     "data": {
      "text/plain": [
       "9.0"
      ]
     },
     "execution_count": 6,
     "metadata": {},
     "output_type": "execute_result"
    }
   ],
   "source": [
    "# Sequência das operações aritméticas: Multiplicação / Divisão / Soma / Subtração\n",
    "5 * 4 / 2 + 6 - 7"
   ]
  },
  {
   "cell_type": "code",
   "execution_count": 7,
   "metadata": {},
   "outputs": [
    {
     "data": {
      "text/plain": [
       "33.0"
      ]
     },
     "execution_count": 7,
     "metadata": {},
     "output_type": "execute_result"
    }
   ],
   "source": [
    "# Para alterar a sequência das operações você deve usar '()'\n",
    "5 * ((4 / 2) + 6) - 7 "
   ]
  },
  {
   "cell_type": "markdown",
   "metadata": {},
   "source": [
    "## Variavéis no Python"
   ]
  },
  {
   "cell_type": "markdown",
   "metadata": {},
   "source": [
    "### String (texto)"
   ]
  },
  {
   "cell_type": "code",
   "execution_count": 8,
   "metadata": {},
   "outputs": [
    {
     "name": "stdout",
     "output_type": "stream",
     "text": [
      "Python para não programadores\n",
      "Aprenda Python sem complicação\n"
     ]
    }
   ],
   "source": [
    "#Vamos atribuir o texto as variáveis 'a' e 'b', você pode digitar o texto entre aspas simples ('') ou aspas duplas (\"\")\n",
    "a = 'Python para não programadores'\n",
    "b = \"Aprenda Python sem complicação\"\n",
    "print(a)\n",
    "print(b)"
   ]
  },
  {
   "cell_type": "code",
   "execution_count": 13,
   "metadata": {},
   "outputs": [
    {
     "name": "stdout",
     "output_type": "stream",
     "text": [
      "Python é fácil\n",
      "Python não  é fácil\n",
      " é fácil é fácilPython\n"
     ]
    }
   ],
   "source": [
    "# Concatenar (juntar) os textos\n",
    "c = \"Python\"\n",
    "d = ' é fácil'\n",
    "print(c + d)\n",
    "print(c + ' não ' + d)\n",
    "print(d + d + c)"
   ]
  },
  {
   "cell_type": "code",
   "execution_count": 1,
   "metadata": {},
   "outputs": [
    {
     "name": "stdout",
     "output_type": "stream",
     "text": [
      "Python para não programadores\n",
      "Python para não programadores é fácil\n"
     ]
    }
   ],
   "source": [
    "# Para alterar um variável do tipo string é preciso criar uma nova variável\n",
    "#Viriável original\n",
    "a = 'Python para não programadores'\n",
    "#Variável alterada\n",
    "b = a + \" é fácil\"\n",
    "print(a)\n",
    "print(b)\n"
   ]
  },
  {
   "cell_type": "code",
   "execution_count": 5,
   "metadata": {},
   "outputs": [
    {
     "name": "stdout",
     "output_type": "stream",
     "text": [
      "Interpolação de String\n",
      "Como aprender Python\n"
     ]
    }
   ],
   "source": [
    "#Interpolação de strings\n",
    "c = \"Python\"\n",
    "print('Interpolação de String')\n",
    "print(\"Como aprender %s\" %c)"
   ]
  },
  {
   "cell_type": "code",
   "execution_count": 11,
   "metadata": {},
   "outputs": [
    {
     "name": "stdout",
     "output_type": "stream",
     "text": [
      "0 P\n",
      "1 y\n",
      "2 t\n",
      "3 h\n",
      "4 o\n",
      "5 n\n",
      "6  \n",
      "7 p\n",
      "8 a\n",
      "9 r\n",
      "10 a\n",
      "11  \n",
      "12 n\n",
      "13 ã\n",
      "14 o\n",
      "15  \n",
      "16 p\n",
      "17 r\n",
      "18 o\n",
      "19 g\n",
      "20 r\n",
      "21 a\n",
      "22 m\n",
      "23 a\n",
      "24 d\n",
      "25 o\n",
      "26 r\n",
      "27 e\n",
      "28 s\n"
     ]
    }
   ],
   "source": [
    "# Fatiando o texto\n",
    "a = 'Python para não programadores'\n",
    "x = 0\n",
    "# Ainda não vamos tratar do FOR nesse tutorial\n",
    "# É somente para você ver o indíce que vamos usar para fatiar o texto\n",
    "for l in a:\n",
    "    print(x, l)\n",
    "    x = x + 1"
   ]
  },
  {
   "cell_type": "code",
   "execution_count": 15,
   "metadata": {},
   "outputs": [
    {
     "name": "stdout",
     "output_type": "stream",
     "text": [
      "a[0] = P\n",
      "a[17] = r\n",
      "a[20] = r\n",
      "a[27] = e\n"
     ]
    }
   ],
   "source": [
    "# Imprimindo o texto fatiado\n",
    "print(\"a[0] =\", a[0])\n",
    "print(\"a[17] =\", a[17])\n",
    "print(\"a[20] =\", a[20])\n",
    "print(\"a[27] =\", a[27])"
   ]
  },
  {
   "cell_type": "code",
   "execution_count": 24,
   "metadata": {},
   "outputs": [
    {
     "name": "stdout",
     "output_type": "stream",
     "text": [
      "Imprimir todo o texto apartir do índice 16\n",
      "programadores\n",
      "----------------------------------------------------------------------------------------------------\n",
      "Imprimir o texto entre os índices 7 e 15\n",
      "para não\n",
      "----------------------------------------------------------------------------------------------------\n",
      "Imprimir o texto até o índice 10, sendo que o índice 10 fica de fora\n",
      "Python par\n",
      "----------------------------------------------------------------------------------------------------\n",
      "Imprimir todo o texto, sendo que o índice 28 fica de fora (indice 28 é igual ao índice -1)\n",
      "Python para não programadore\n",
      "----------------------------------------------------------------------------------------------------\n"
     ]
    }
   ],
   "source": [
    "# Outras formas de fatiar o texto\n",
    "# Imprimir todo o texto apartir do índice 16\n",
    "print('Imprimir todo o texto apartir do índice 16')\n",
    "print(a[16:])\n",
    "print('-' * 100)\n",
    "\n",
    "# Imprimir o texto entre os índices 7 e 15\n",
    "print('Imprimir o texto entre os índices 7 e 15')\n",
    "print(a[7:15])\n",
    "print('-' * 100)\n",
    "\n",
    "# Imprimir o texto até o índice 10, sendo que o índice 10 fica de fora\n",
    "print(\"Imprimir o texto até o índice 10, sendo que o índice 10 fica de fora\")\n",
    "print(a[:10])\n",
    "print('-' * 100)\n",
    "\n",
    "# Imprimir todo o texto, sendo que o índice 28 fica de fora (indice 28 é igual ao índice -1)\n",
    "print(\"Imprimir todo o texto, sendo que o índice 28 fica de fora (indice 28 é igual ao índice -1)\")\n",
    "print(a[:-1])\n",
    "print('-' * 100)"
   ]
  },
  {
   "cell_type": "markdown",
   "metadata": {},
   "source": [
    "## Bem estes foram alguns comandos em Python para trabalhar com String(texto)!\n",
    "## Agora é só treinar."
   ]
  },
  {
   "cell_type": "code",
   "execution_count": null,
   "metadata": {},
   "outputs": [],
   "source": []
  }
 ],
 "metadata": {
  "kernelspec": {
   "display_name": "Python 3",
   "language": "python",
   "name": "python3"
  },
  "language_info": {
   "codemirror_mode": {
    "name": "ipython",
    "version": 3
   },
   "file_extension": ".py",
   "mimetype": "text/x-python",
   "name": "python",
   "nbconvert_exporter": "python",
   "pygments_lexer": "ipython3",
   "version": "3.7.3"
  }
 },
 "nbformat": 4,
 "nbformat_minor": 2
}
