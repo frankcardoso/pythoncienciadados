{
 "cells": [
  {
   "cell_type": "markdown",
   "metadata": {},
   "source": [
    "# Curso Python para Ciência de Dados\n",
    "## Aula \n",
    "#### IF e Else"
   ]
  },
  {
   "cell_type": "code",
   "execution_count": 2,
   "metadata": {},
   "outputs": [
    {
     "name": "stdout",
     "output_type": "stream",
     "text": [
      "a maior que 5!\n"
     ]
    }
   ],
   "source": [
    "# Instrução onde você opta por um ação entre as opções apresentadas\n",
    "# If e Else (Se e Então)\n",
    "#Diferente de outras linguagens, para agrupar os comandos você deve usar os espaços em branco no inicio das linhas.\n",
    "a = 10\n",
    "if a < 5:\n",
    "    print(\"a menor que 5!\")\n",
    "else :\n",
    "    print(\"a maior que 5!\")"
   ]
  },
  {
   "cell_type": "code",
   "execution_count": 3,
   "metadata": {},
   "outputs": [
    {
     "name": "stdout",
     "output_type": "stream",
     "text": [
      "b é menor que 30!\n"
     ]
    }
   ],
   "source": [
    "b = 20\n",
    "if b > 30:\n",
    "    print(\"b maior que 30!\")\n",
    "else:\n",
    "    print(\"b é menor que 30!\")"
   ]
  },
  {
   "cell_type": "code",
   "execution_count": 4,
   "metadata": {},
   "outputs": [
    {
     "name": "stdout",
     "output_type": "stream",
     "text": [
      "c é menor que 40!\n"
     ]
    }
   ],
   "source": [
    "# As instrução If-Else pode ter mais opções\n",
    "c = 30\n",
    "if c > 60:\n",
    "    print(\"c é maior que 60!\")\n",
    "elif c > 50:\n",
    "    print(\"c é maior que 50!\")\n",
    "elif c > 40:\n",
    "    print(\"c é maior que 40!\")\n",
    "else:\n",
    "    print(\"c é menor que 40!\")"
   ]
  },
  {
   "cell_type": "code",
   "execution_count": 7,
   "metadata": {},
   "outputs": [
    {
     "name": "stdout",
     "output_type": "stream",
     "text": [
      "Minha cor preferida é azul\n"
     ]
    }
   ],
   "source": [
    "d = \"Azul\"\n",
    "\n",
    "# = é diferente de ==\n",
    "\n",
    "if d == \"Vermelho\":\n",
    "    print(\"Minha cor preferida é vermelho\")\n",
    "elif d == \"Amarelo\":\n",
    "    print(\"Minha cor preferida é amarelo\")\n",
    "elif d == \"Verde\":\n",
    "    print(\"Minha cor preferida é verde\")\n",
    "else:\n",
    "    print(\"Minha cor preferida é azul\")"
   ]
  },
  {
   "cell_type": "code",
   "execution_count": 8,
   "metadata": {},
   "outputs": [
    {
     "name": "stdout",
     "output_type": "stream",
     "text": [
      "e é menor que 60 e menor que 50\n"
     ]
    }
   ],
   "source": [
    "# Podemos usar várias instruções If-Else uma dentro da outras\n",
    "e = 30\n",
    "if e < 60:\n",
    "    if e > 50:\n",
    "        print(\"e é menor que 60 e maior que 50\")\n",
    "    else:\n",
    "        print(\"e é menor que 60 e menor que 50\")\n",
    "else:\n",
    "    if e < 50:\n",
    "        print(\"e é maior que 60 e menor que 50\")"
   ]
  },
  {
   "cell_type": "code",
   "execution_count": 13,
   "metadata": {},
   "outputs": [
    {
     "name": "stdout",
     "output_type": "stream",
     "text": [
      "Digite um número:15\n",
      "O número escolhido é menor que 20\n"
     ]
    }
   ],
   "source": [
    "# Vamos ver como inserir valores manualmente\n",
    "# o comando input gera um valor do tipo string, para transformar no tipo Inteiro é preciso colocar dentro da função int()\n",
    "f = int(input(\"Digite um número:\"))\n",
    "if f < 10:\n",
    "    print(\"O número escolhido é menor que 10\")\n",
    "elif f < 20:\n",
    "    print(\"O número escolhido é menor que 20\")\n",
    "elif f < 30:\n",
    "    print(\"O número escolhido é menor que 30\")\n",
    "elif f < 40:\n",
    "    print(\"O número escolhido é menor que 20\")\n",
    "else:\n",
    "    print(\"O número escolhido é maior que 40\")"
   ]
  },
  {
   "cell_type": "code",
   "execution_count": 16,
   "metadata": {},
   "outputs": [
    {
     "name": "stdout",
     "output_type": "stream",
     "text": [
      "Qual sua fruta preferida:uva\n",
      "não sei qual sua fruta preferida!\n"
     ]
    }
   ],
   "source": [
    "# If-else com valor variável do tipo string\n",
    "g = input(\"Qual sua fruta preferida:\")\n",
    "if g == \"banana\":\n",
    "    print(\"sua fruta preferida é banana.\")\n",
    "elif g == \"abacate\":\n",
    "    print(\"sua fruta preferida é abacate\")\n",
    "elif g == \"mamão\":\n",
    "    print(\"sua fruta preferida é mamão\")\n",
    "elif g == \"morango\":\n",
    "    print(\"sua fruta preferida é morango\")\n",
    "else:\n",
    "    print(\"não sei qual sua fruta preferida!\")"
   ]
  },
  {
   "cell_type": "code",
   "execution_count": 20,
   "metadata": {},
   "outputs": [
    {
     "name": "stdout",
     "output_type": "stream",
     "text": [
      "Qual seu pedido: queijo quente\n",
      "Preço: 7.8\n"
     ]
    }
   ],
   "source": [
    "# If-else com dicionário de dados\n",
    "menu = {'ovos mexidos': 7.65, 'hamburger' : 12.90, 'refrigerante': 4.35, 'queijo quente': 7.80}\n",
    "\n",
    "pedido = input(\"Qual seu pedido: \")\n",
    "\n",
    "if pedido == 'ovos mexidos':\n",
    "    print('Preço:', menu.get('ovos mexidos'))\n",
    "elif pedido == 'hamburger':\n",
    "    print('Preço:', menu.get('hamburger'))\n",
    "elif pedido == 'refrigerante':\n",
    "    print('Preço:', menu.get('refrigerante'))\n",
    "elif pedido == 'queijo quente':\n",
    "    print('Preço:', menu.get('queijo quente'))\n",
    "else:\n",
    "    print(\"Pedido não conta no cardápio.\")"
   ]
  },
  {
   "cell_type": "markdown",
   "metadata": {},
   "source": [
    "## Esses são alguns exemplos de como usar a instrução If-Else\n",
    "## Obrigado"
   ]
  },
  {
   "cell_type": "code",
   "execution_count": null,
   "metadata": {},
   "outputs": [],
   "source": []
  }
 ],
 "metadata": {
  "kernelspec": {
   "display_name": "Python 3",
   "language": "python",
   "name": "python3"
  },
  "language_info": {
   "codemirror_mode": {
    "name": "ipython",
    "version": 3
   },
   "file_extension": ".py",
   "mimetype": "text/x-python",
   "name": "python",
   "nbconvert_exporter": "python",
   "pygments_lexer": "ipython3",
   "version": "3.7.3"
  }
 },
 "nbformat": 4,
 "nbformat_minor": 2
}
