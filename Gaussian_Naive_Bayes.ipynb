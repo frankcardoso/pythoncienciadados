{
  "nbformat": 4,
  "nbformat_minor": 0,
  "metadata": {
    "colab": {
      "name": "Gaussian Naive Bayes.ipynb",
      "provenance": [],
      "collapsed_sections": []
    },
    "kernelspec": {
      "name": "python3",
      "display_name": "Python 3"
    },
    "language_info": {
      "name": "python"
    }
  },
  "cells": [
    {
      "cell_type": "markdown",
      "metadata": {
        "id": "enBM2kdMrFuS"
      },
      "source": [
        "#Exemplo de com usar o Algoritmo de Classificação Gaussian Naive Bayes\n",
        "\n",
        "Neste exemplo vamos usar o dataset Iris.\n",
        "Conjunto de dados de um grupo de plantas Iris, divididos em 3 espécies e 3 características. \n",
        "\n",
        "\n",
        "1.   Espécies: Iris setosa, Iris virginica e Iris versicolor\n",
        "2.   Características: comprimento e largura das sépalas e pétalas\n"
      ]
    },
    {
      "cell_type": "code",
      "metadata": {
        "id": "RelasOUYaf-e"
      },
      "source": [
        "# Importando as bibliotecas\n",
        "from sklearn.datasets import load_iris\n",
        "from sklearn.naive_bayes import GaussianNB\n",
        "from sklearn.model_selection import train_test_split\n",
        "from sklearn.metrics import accuracy_score"
      ],
      "execution_count": null,
      "outputs": []
    },
    {
      "cell_type": "code",
      "metadata": {
        "id": "xwfLG3LGa1Mm"
      },
      "source": [
        "# Gerando os dados com base no dataset \n",
        "X, y = load_iris(return_X_y=True)"
      ],
      "execution_count": null,
      "outputs": []
    },
    {
      "cell_type": "code",
      "metadata": {
        "id": "8jDb7laAbQAY"
      },
      "source": [
        "#Fazendo a divisão dos dados em treinamento e teste\n",
        "X_train, X_test, y_train, y_test = train_test_split(X, y, test_size=0.5, random_state=0)"
      ],
      "execution_count": null,
      "outputs": []
    },
    {
      "cell_type": "code",
      "metadata": {
        "colab": {
          "base_uri": "https://localhost:8080/"
        },
        "id": "Y40-CPB5qTMe",
        "outputId": "9df0b789-e3b2-4fb2-9097-d301a3d4d7a2"
      },
      "source": [
        "#Imprimindo as dimensões\n",
        "print('X_train:{0}\\n'.format(X_train.shape))\n",
        "print('X_test:{0}\\n'.format(X_test.shape))\n",
        "print('Y_train:{0}\\n'.format(y_train.shape))\n",
        "print('Y_test:{0}\\n'.format(y_test.shape))"
      ],
      "execution_count": null,
      "outputs": [
        {
          "output_type": "stream",
          "text": [
            "X_train:(75, 4)\n",
            "\n",
            "X_test:(75, 4)\n",
            "\n",
            "Y_train:(75,)\n",
            "\n",
            "Y_test:(75,)\n",
            "\n"
          ],
          "name": "stdout"
        }
      ]
    },
    {
      "cell_type": "code",
      "metadata": {
        "id": "cINcaf6IfCaq"
      },
      "source": [
        "#Criando o modelo \n",
        "gnb = GaussianNB()"
      ],
      "execution_count": null,
      "outputs": []
    },
    {
      "cell_type": "code",
      "metadata": {
        "id": "GmQvRefnuix-"
      },
      "source": [
        "#Instanciando e treinando o modelo\n",
        "modelo = gnb.fit(X_train, y_train)"
      ],
      "execution_count": null,
      "outputs": []
    },
    {
      "cell_type": "code",
      "metadata": {
        "id": "lUXTV1MIqJU1"
      },
      "source": [
        "#Fazendo a predição\n",
        "y_pred = modelo.predict(X_test)"
      ],
      "execution_count": null,
      "outputs": []
    },
    {
      "cell_type": "code",
      "metadata": {
        "colab": {
          "base_uri": "https://localhost:8080/"
        },
        "id": "gs7L0hE2qSIz",
        "outputId": "197f438b-46c7-4cf6-d272-a399acf5353f"
      },
      "source": [
        "#Verificando a performace do modelo\n",
        "acuracia = accuracy_score(y_test, y_pred)\n",
        "\n",
        "print('Acurácia: {0}\\n'.format(acuracia * 100))"
      ],
      "execution_count": null,
      "outputs": [
        {
          "output_type": "stream",
          "text": [
            "Acurácia: 94.66666666666667\n",
            "\n"
          ],
          "name": "stdout"
        }
      ]
    },
    {
      "cell_type": "code",
      "metadata": {
        "id": "RLziYbnBxOVu"
      },
      "source": [
        ""
      ],
      "execution_count": null,
      "outputs": []
    }
  ]
}