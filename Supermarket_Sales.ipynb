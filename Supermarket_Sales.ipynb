{
  "nbformat": 4,
  "nbformat_minor": 0,
  "metadata": {
    "colab": {
      "name": "Supermarket Sales.ipynb",
      "provenance": [],
      "collapsed_sections": []
    },
    "kernelspec": {
      "name": "python3",
      "display_name": "Python 3"
    },
    "language_info": {
      "name": "python"
    }
  },
  "cells": [
    {
      "cell_type": "code",
      "metadata": {
        "id": "nVn2l1BFEuBZ"
      },
      "source": [
        "import pandas as pd\n",
        "import numpy as np\n",
        "import matplotlib.pyplot as plt\n",
        "from sklearn.model_selection import train_test_split\n",
        "from sklearn.metrics import accuracy_score\n",
        "from sklearn.naive_bayes import GaussianNB\n",
        "from sklearn.ensemble import RandomForestClassifier\n",
        "from sklearn.tree import DecisionTreeClassifier\n",
        "\n",
        "\n",
        "np.set_printoptions(threshold=None, precision=2)\n",
        "pd.set_option('display.max_columns', 500)\n",
        "pd.set_option('display.max_rows', 500)\n",
        "pd.set_option('precision', 2)"
      ],
      "execution_count": null,
      "outputs": []
    },
    {
      "cell_type": "code",
      "metadata": {
        "colab": {
          "base_uri": "https://localhost:8080/",
          "height": 258
        },
        "id": "Zz_xPT7rFUhX",
        "outputId": "4ef8a9b8-dcfd-46b6-f824-ffdbcfb44fcb"
      },
      "source": [
        "dados = pd.read_csv('/content/supermarket_sales - Sheet1.csv')\n",
        "\n",
        "dados.head()"
      ],
      "execution_count": null,
      "outputs": [
        {
          "output_type": "execute_result",
          "data": {
            "text/html": [
              "<div>\n",
              "<style scoped>\n",
              "    .dataframe tbody tr th:only-of-type {\n",
              "        vertical-align: middle;\n",
              "    }\n",
              "\n",
              "    .dataframe tbody tr th {\n",
              "        vertical-align: top;\n",
              "    }\n",
              "\n",
              "    .dataframe thead th {\n",
              "        text-align: right;\n",
              "    }\n",
              "</style>\n",
              "<table border=\"1\" class=\"dataframe\">\n",
              "  <thead>\n",
              "    <tr style=\"text-align: right;\">\n",
              "      <th></th>\n",
              "      <th>Invoice ID</th>\n",
              "      <th>Branch</th>\n",
              "      <th>City</th>\n",
              "      <th>Customer type</th>\n",
              "      <th>Gender</th>\n",
              "      <th>Product line</th>\n",
              "      <th>Unit price</th>\n",
              "      <th>Quantity</th>\n",
              "      <th>Tax 5%</th>\n",
              "      <th>Total</th>\n",
              "      <th>Date</th>\n",
              "      <th>Time</th>\n",
              "      <th>Payment</th>\n",
              "      <th>cogs</th>\n",
              "      <th>gross margin percentage</th>\n",
              "      <th>gross income</th>\n",
              "      <th>Rating</th>\n",
              "    </tr>\n",
              "  </thead>\n",
              "  <tbody>\n",
              "    <tr>\n",
              "      <th>0</th>\n",
              "      <td>750-67-8428</td>\n",
              "      <td>A</td>\n",
              "      <td>Yangon</td>\n",
              "      <td>Member</td>\n",
              "      <td>Female</td>\n",
              "      <td>Health and beauty</td>\n",
              "      <td>74.69</td>\n",
              "      <td>7</td>\n",
              "      <td>26.14</td>\n",
              "      <td>548.97</td>\n",
              "      <td>1/5/2019</td>\n",
              "      <td>13:08</td>\n",
              "      <td>Ewallet</td>\n",
              "      <td>522.83</td>\n",
              "      <td>4.76</td>\n",
              "      <td>26.14</td>\n",
              "      <td>9.1</td>\n",
              "    </tr>\n",
              "    <tr>\n",
              "      <th>1</th>\n",
              "      <td>226-31-3081</td>\n",
              "      <td>C</td>\n",
              "      <td>Naypyitaw</td>\n",
              "      <td>Normal</td>\n",
              "      <td>Female</td>\n",
              "      <td>Electronic accessories</td>\n",
              "      <td>15.28</td>\n",
              "      <td>5</td>\n",
              "      <td>3.82</td>\n",
              "      <td>80.22</td>\n",
              "      <td>3/8/2019</td>\n",
              "      <td>10:29</td>\n",
              "      <td>Cash</td>\n",
              "      <td>76.40</td>\n",
              "      <td>4.76</td>\n",
              "      <td>3.82</td>\n",
              "      <td>9.6</td>\n",
              "    </tr>\n",
              "    <tr>\n",
              "      <th>2</th>\n",
              "      <td>631-41-3108</td>\n",
              "      <td>A</td>\n",
              "      <td>Yangon</td>\n",
              "      <td>Normal</td>\n",
              "      <td>Male</td>\n",
              "      <td>Home and lifestyle</td>\n",
              "      <td>46.33</td>\n",
              "      <td>7</td>\n",
              "      <td>16.22</td>\n",
              "      <td>340.53</td>\n",
              "      <td>3/3/2019</td>\n",
              "      <td>13:23</td>\n",
              "      <td>Credit card</td>\n",
              "      <td>324.31</td>\n",
              "      <td>4.76</td>\n",
              "      <td>16.22</td>\n",
              "      <td>7.4</td>\n",
              "    </tr>\n",
              "    <tr>\n",
              "      <th>3</th>\n",
              "      <td>123-19-1176</td>\n",
              "      <td>A</td>\n",
              "      <td>Yangon</td>\n",
              "      <td>Member</td>\n",
              "      <td>Male</td>\n",
              "      <td>Health and beauty</td>\n",
              "      <td>58.22</td>\n",
              "      <td>8</td>\n",
              "      <td>23.29</td>\n",
              "      <td>489.05</td>\n",
              "      <td>1/27/2019</td>\n",
              "      <td>20:33</td>\n",
              "      <td>Ewallet</td>\n",
              "      <td>465.76</td>\n",
              "      <td>4.76</td>\n",
              "      <td>23.29</td>\n",
              "      <td>8.4</td>\n",
              "    </tr>\n",
              "    <tr>\n",
              "      <th>4</th>\n",
              "      <td>373-73-7910</td>\n",
              "      <td>A</td>\n",
              "      <td>Yangon</td>\n",
              "      <td>Normal</td>\n",
              "      <td>Male</td>\n",
              "      <td>Sports and travel</td>\n",
              "      <td>86.31</td>\n",
              "      <td>7</td>\n",
              "      <td>30.21</td>\n",
              "      <td>634.38</td>\n",
              "      <td>2/8/2019</td>\n",
              "      <td>10:37</td>\n",
              "      <td>Ewallet</td>\n",
              "      <td>604.17</td>\n",
              "      <td>4.76</td>\n",
              "      <td>30.21</td>\n",
              "      <td>5.3</td>\n",
              "    </tr>\n",
              "  </tbody>\n",
              "</table>\n",
              "</div>"
            ],
            "text/plain": [
              "    Invoice ID Branch       City Customer type  Gender  \\\n",
              "0  750-67-8428      A     Yangon        Member  Female   \n",
              "1  226-31-3081      C  Naypyitaw        Normal  Female   \n",
              "2  631-41-3108      A     Yangon        Normal    Male   \n",
              "3  123-19-1176      A     Yangon        Member    Male   \n",
              "4  373-73-7910      A     Yangon        Normal    Male   \n",
              "\n",
              "             Product line  Unit price  Quantity  Tax 5%   Total       Date  \\\n",
              "0       Health and beauty       74.69         7   26.14  548.97   1/5/2019   \n",
              "1  Electronic accessories       15.28         5    3.82   80.22   3/8/2019   \n",
              "2      Home and lifestyle       46.33         7   16.22  340.53   3/3/2019   \n",
              "3       Health and beauty       58.22         8   23.29  489.05  1/27/2019   \n",
              "4       Sports and travel       86.31         7   30.21  634.38   2/8/2019   \n",
              "\n",
              "    Time      Payment    cogs  gross margin percentage  gross income  Rating  \n",
              "0  13:08      Ewallet  522.83                     4.76         26.14     9.1  \n",
              "1  10:29         Cash   76.40                     4.76          3.82     9.6  \n",
              "2  13:23  Credit card  324.31                     4.76         16.22     7.4  \n",
              "3  20:33      Ewallet  465.76                     4.76         23.29     8.4  \n",
              "4  10:37      Ewallet  604.17                     4.76         30.21     5.3  "
            ]
          },
          "metadata": {
            "tags": []
          },
          "execution_count": 24
        }
      ]
    },
    {
      "cell_type": "code",
      "metadata": {
        "id": "H5_qawrkPy6k"
      },
      "source": [
        "def tranforma_branch(valor):\n",
        "  if valor == 'A':\n",
        "    return 1\n",
        "  elif valor == 'B':\n",
        "    return 2\n",
        "  else:\n",
        "    return 3\n",
        "\n",
        "def transforma_city(valor):\n",
        "  if valor == 'Yangon':\n",
        "    return 1\n",
        "  elif valor == 'Naypyitaw':\n",
        "    return 2\n",
        "  else:\n",
        "    return 3\n",
        "\n",
        "def transforma_customer(valor):\n",
        "  if valor == 'Normal':\n",
        "    return 0\n",
        "  else:\n",
        "    return 1\n",
        "\n",
        "def transforma_gender(valor):\n",
        "  if valor == 'Female':\n",
        "    return 0\n",
        "  else:\n",
        "    return 1\n",
        "\n",
        "def transforma_pay(valor):\n",
        "  if valor == 'Credit card':\n",
        "    return 1\n",
        "  elif valor == 'Ewallet':\n",
        "    return 2\n",
        "  else:\n",
        "    return 3\n"
      ],
      "execution_count": null,
      "outputs": []
    },
    {
      "cell_type": "code",
      "metadata": {
        "id": "OI9I7sQ5RYaX"
      },
      "source": [
        "dados['Branch_Value'] = dados['Branch'].map(tranforma_branch)\n",
        "dados['City_Value'] = dados['City'].map(transforma_city)\n",
        "dados['Customer_Value'] = dados['Customer type'].map(transforma_customer)\n",
        "dados['Gender_Value'] = dados['Gender'].map(transforma_gender)\n",
        "dados['Payment_Value'] = dados['Payment'].map(transforma_pay)"
      ],
      "execution_count": null,
      "outputs": []
    },
    {
      "cell_type": "code",
      "metadata": {
        "colab": {
          "base_uri": "https://localhost:8080/",
          "height": 348
        },
        "id": "-_apgk3kR-aG",
        "outputId": "34653fd2-ff47-407d-cde0-6096b6100636"
      },
      "source": [
        "dados.head()"
      ],
      "execution_count": null,
      "outputs": [
        {
          "output_type": "execute_result",
          "data": {
            "text/html": [
              "<div>\n",
              "<style scoped>\n",
              "    .dataframe tbody tr th:only-of-type {\n",
              "        vertical-align: middle;\n",
              "    }\n",
              "\n",
              "    .dataframe tbody tr th {\n",
              "        vertical-align: top;\n",
              "    }\n",
              "\n",
              "    .dataframe thead th {\n",
              "        text-align: right;\n",
              "    }\n",
              "</style>\n",
              "<table border=\"1\" class=\"dataframe\">\n",
              "  <thead>\n",
              "    <tr style=\"text-align: right;\">\n",
              "      <th></th>\n",
              "      <th>Invoice ID</th>\n",
              "      <th>Branch</th>\n",
              "      <th>City</th>\n",
              "      <th>Customer type</th>\n",
              "      <th>Gender</th>\n",
              "      <th>Product line</th>\n",
              "      <th>Unit price</th>\n",
              "      <th>Quantity</th>\n",
              "      <th>Tax 5%</th>\n",
              "      <th>Total</th>\n",
              "      <th>Date</th>\n",
              "      <th>Time</th>\n",
              "      <th>Payment</th>\n",
              "      <th>cogs</th>\n",
              "      <th>gross margin percentage</th>\n",
              "      <th>gross income</th>\n",
              "      <th>Rating</th>\n",
              "      <th>Branch_Value</th>\n",
              "      <th>City_Value</th>\n",
              "      <th>Customer_Value</th>\n",
              "      <th>Gender_Value</th>\n",
              "      <th>Payment_Value</th>\n",
              "    </tr>\n",
              "  </thead>\n",
              "  <tbody>\n",
              "    <tr>\n",
              "      <th>0</th>\n",
              "      <td>750-67-8428</td>\n",
              "      <td>A</td>\n",
              "      <td>Yangon</td>\n",
              "      <td>Member</td>\n",
              "      <td>Female</td>\n",
              "      <td>Health and beauty</td>\n",
              "      <td>74.69</td>\n",
              "      <td>7</td>\n",
              "      <td>26.14</td>\n",
              "      <td>548.97</td>\n",
              "      <td>1/5/2019</td>\n",
              "      <td>13:08</td>\n",
              "      <td>Ewallet</td>\n",
              "      <td>522.83</td>\n",
              "      <td>4.76</td>\n",
              "      <td>26.14</td>\n",
              "      <td>9.1</td>\n",
              "      <td>1</td>\n",
              "      <td>1</td>\n",
              "      <td>1</td>\n",
              "      <td>0</td>\n",
              "      <td>2</td>\n",
              "    </tr>\n",
              "    <tr>\n",
              "      <th>1</th>\n",
              "      <td>226-31-3081</td>\n",
              "      <td>C</td>\n",
              "      <td>Naypyitaw</td>\n",
              "      <td>Normal</td>\n",
              "      <td>Female</td>\n",
              "      <td>Electronic accessories</td>\n",
              "      <td>15.28</td>\n",
              "      <td>5</td>\n",
              "      <td>3.82</td>\n",
              "      <td>80.22</td>\n",
              "      <td>3/8/2019</td>\n",
              "      <td>10:29</td>\n",
              "      <td>Cash</td>\n",
              "      <td>76.40</td>\n",
              "      <td>4.76</td>\n",
              "      <td>3.82</td>\n",
              "      <td>9.6</td>\n",
              "      <td>3</td>\n",
              "      <td>2</td>\n",
              "      <td>0</td>\n",
              "      <td>0</td>\n",
              "      <td>3</td>\n",
              "    </tr>\n",
              "    <tr>\n",
              "      <th>2</th>\n",
              "      <td>631-41-3108</td>\n",
              "      <td>A</td>\n",
              "      <td>Yangon</td>\n",
              "      <td>Normal</td>\n",
              "      <td>Male</td>\n",
              "      <td>Home and lifestyle</td>\n",
              "      <td>46.33</td>\n",
              "      <td>7</td>\n",
              "      <td>16.22</td>\n",
              "      <td>340.53</td>\n",
              "      <td>3/3/2019</td>\n",
              "      <td>13:23</td>\n",
              "      <td>Credit card</td>\n",
              "      <td>324.31</td>\n",
              "      <td>4.76</td>\n",
              "      <td>16.22</td>\n",
              "      <td>7.4</td>\n",
              "      <td>1</td>\n",
              "      <td>1</td>\n",
              "      <td>0</td>\n",
              "      <td>1</td>\n",
              "      <td>1</td>\n",
              "    </tr>\n",
              "    <tr>\n",
              "      <th>3</th>\n",
              "      <td>123-19-1176</td>\n",
              "      <td>A</td>\n",
              "      <td>Yangon</td>\n",
              "      <td>Member</td>\n",
              "      <td>Male</td>\n",
              "      <td>Health and beauty</td>\n",
              "      <td>58.22</td>\n",
              "      <td>8</td>\n",
              "      <td>23.29</td>\n",
              "      <td>489.05</td>\n",
              "      <td>1/27/2019</td>\n",
              "      <td>20:33</td>\n",
              "      <td>Ewallet</td>\n",
              "      <td>465.76</td>\n",
              "      <td>4.76</td>\n",
              "      <td>23.29</td>\n",
              "      <td>8.4</td>\n",
              "      <td>1</td>\n",
              "      <td>1</td>\n",
              "      <td>1</td>\n",
              "      <td>1</td>\n",
              "      <td>2</td>\n",
              "    </tr>\n",
              "    <tr>\n",
              "      <th>4</th>\n",
              "      <td>373-73-7910</td>\n",
              "      <td>A</td>\n",
              "      <td>Yangon</td>\n",
              "      <td>Normal</td>\n",
              "      <td>Male</td>\n",
              "      <td>Sports and travel</td>\n",
              "      <td>86.31</td>\n",
              "      <td>7</td>\n",
              "      <td>30.21</td>\n",
              "      <td>634.38</td>\n",
              "      <td>2/8/2019</td>\n",
              "      <td>10:37</td>\n",
              "      <td>Ewallet</td>\n",
              "      <td>604.17</td>\n",
              "      <td>4.76</td>\n",
              "      <td>30.21</td>\n",
              "      <td>5.3</td>\n",
              "      <td>1</td>\n",
              "      <td>1</td>\n",
              "      <td>0</td>\n",
              "      <td>1</td>\n",
              "      <td>2</td>\n",
              "    </tr>\n",
              "  </tbody>\n",
              "</table>\n",
              "</div>"
            ],
            "text/plain": [
              "    Invoice ID Branch       City Customer type  Gender  \\\n",
              "0  750-67-8428      A     Yangon        Member  Female   \n",
              "1  226-31-3081      C  Naypyitaw        Normal  Female   \n",
              "2  631-41-3108      A     Yangon        Normal    Male   \n",
              "3  123-19-1176      A     Yangon        Member    Male   \n",
              "4  373-73-7910      A     Yangon        Normal    Male   \n",
              "\n",
              "             Product line  Unit price  Quantity  Tax 5%   Total       Date  \\\n",
              "0       Health and beauty       74.69         7   26.14  548.97   1/5/2019   \n",
              "1  Electronic accessories       15.28         5    3.82   80.22   3/8/2019   \n",
              "2      Home and lifestyle       46.33         7   16.22  340.53   3/3/2019   \n",
              "3       Health and beauty       58.22         8   23.29  489.05  1/27/2019   \n",
              "4       Sports and travel       86.31         7   30.21  634.38   2/8/2019   \n",
              "\n",
              "    Time      Payment    cogs  gross margin percentage  gross income  Rating  \\\n",
              "0  13:08      Ewallet  522.83                     4.76         26.14     9.1   \n",
              "1  10:29         Cash   76.40                     4.76          3.82     9.6   \n",
              "2  13:23  Credit card  324.31                     4.76         16.22     7.4   \n",
              "3  20:33      Ewallet  465.76                     4.76         23.29     8.4   \n",
              "4  10:37      Ewallet  604.17                     4.76         30.21     5.3   \n",
              "\n",
              "   Branch_Value  City_Value  Customer_Value  Gender_Value  Payment_Value  \n",
              "0             1           1               1             0              2  \n",
              "1             3           2               0             0              3  \n",
              "2             1           1               0             1              1  \n",
              "3             1           1               1             1              2  \n",
              "4             1           1               0             1              2  "
            ]
          },
          "metadata": {
            "tags": []
          },
          "execution_count": 69
        }
      ]
    },
    {
      "cell_type": "code",
      "metadata": {
        "colab": {
          "base_uri": "https://localhost:8080/"
        },
        "id": "ne4pXRiCF2fy",
        "outputId": "5cf44215-7632-42d8-8dc8-9806094ba26b"
      },
      "source": [
        "print(\"\\nDimensões:\\n{0}\\n\".format(dados.shape))\n",
        "print(\"\\nCampos:\\n{0}\\n\".format(list(dados.keys())))\n",
        "print(\"\\nTipos dos dados:\\n{0}\\n\".format(dados.dtypes))"
      ],
      "execution_count": null,
      "outputs": [
        {
          "output_type": "stream",
          "text": [
            "\n",
            "Dimensões:\n",
            "(1000, 22)\n",
            "\n",
            "\n",
            "Campos:\n",
            "['Invoice ID', 'Branch', 'City', 'Customer type', 'Gender', 'Product line', 'Unit price', 'Quantity', 'Tax 5%', 'Total', 'Date', 'Time', 'Payment', 'cogs', 'gross margin percentage', 'gross income', 'Rating', 'Branch_Value', 'City_Value', 'Customer_Value', 'Gender_Value', 'Payment_Value']\n",
            "\n",
            "\n",
            "Tipos dos dados:\n",
            "Invoice ID                  object\n",
            "Branch                      object\n",
            "City                        object\n",
            "Customer type               object\n",
            "Gender                      object\n",
            "Product line                object\n",
            "Unit price                 float64\n",
            "Quantity                     int64\n",
            "Tax 5%                     float64\n",
            "Total                      float64\n",
            "Date                        object\n",
            "Time                        object\n",
            "Payment                     object\n",
            "cogs                       float64\n",
            "gross margin percentage    float64\n",
            "gross income               float64\n",
            "Rating                     float64\n",
            "Branch_Value                 int64\n",
            "City_Value                   int64\n",
            "Customer_Value               int64\n",
            "Gender_Value                 int64\n",
            "Payment_Value                int64\n",
            "dtype: object\n",
            "\n"
          ],
          "name": "stdout"
        }
      ]
    },
    {
      "cell_type": "code",
      "metadata": {
        "colab": {
          "base_uri": "https://localhost:8080/",
          "height": 300
        },
        "id": "6cJvZ0BILNTU",
        "outputId": "5614bbeb-130f-4924-e1ee-25298931481a"
      },
      "source": [
        "dados.describe()"
      ],
      "execution_count": null,
      "outputs": [
        {
          "output_type": "execute_result",
          "data": {
            "text/html": [
              "<div>\n",
              "<style scoped>\n",
              "    .dataframe tbody tr th:only-of-type {\n",
              "        vertical-align: middle;\n",
              "    }\n",
              "\n",
              "    .dataframe tbody tr th {\n",
              "        vertical-align: top;\n",
              "    }\n",
              "\n",
              "    .dataframe thead th {\n",
              "        text-align: right;\n",
              "    }\n",
              "</style>\n",
              "<table border=\"1\" class=\"dataframe\">\n",
              "  <thead>\n",
              "    <tr style=\"text-align: right;\">\n",
              "      <th></th>\n",
              "      <th>Unit price</th>\n",
              "      <th>Quantity</th>\n",
              "      <th>Tax 5%</th>\n",
              "      <th>Total</th>\n",
              "      <th>cogs</th>\n",
              "      <th>gross margin percentage</th>\n",
              "      <th>gross income</th>\n",
              "      <th>Rating</th>\n",
              "      <th>Branch_Value</th>\n",
              "      <th>City_Value</th>\n",
              "      <th>Customer_Value</th>\n",
              "      <th>Gender_Value</th>\n",
              "      <th>Payment_Value</th>\n",
              "    </tr>\n",
              "  </thead>\n",
              "  <tbody>\n",
              "    <tr>\n",
              "      <th>count</th>\n",
              "      <td>1000.00</td>\n",
              "      <td>1000.00</td>\n",
              "      <td>1000.00</td>\n",
              "      <td>1000.00</td>\n",
              "      <td>1000.00</td>\n",
              "      <td>1.00e+03</td>\n",
              "      <td>1000.00</td>\n",
              "      <td>1000.00</td>\n",
              "      <td>1000.00</td>\n",
              "      <td>1000.00</td>\n",
              "      <td>1000.0</td>\n",
              "      <td>1000.0</td>\n",
              "      <td>1000.00</td>\n",
              "    </tr>\n",
              "    <tr>\n",
              "      <th>mean</th>\n",
              "      <td>55.67</td>\n",
              "      <td>5.51</td>\n",
              "      <td>15.38</td>\n",
              "      <td>322.97</td>\n",
              "      <td>307.59</td>\n",
              "      <td>4.76e+00</td>\n",
              "      <td>15.38</td>\n",
              "      <td>6.97</td>\n",
              "      <td>1.99</td>\n",
              "      <td>1.99</td>\n",
              "      <td>0.5</td>\n",
              "      <td>0.5</td>\n",
              "      <td>2.03</td>\n",
              "    </tr>\n",
              "    <tr>\n",
              "      <th>std</th>\n",
              "      <td>26.49</td>\n",
              "      <td>2.92</td>\n",
              "      <td>11.71</td>\n",
              "      <td>245.89</td>\n",
              "      <td>234.18</td>\n",
              "      <td>6.22e-14</td>\n",
              "      <td>11.71</td>\n",
              "      <td>1.72</td>\n",
              "      <td>0.82</td>\n",
              "      <td>0.82</td>\n",
              "      <td>0.5</td>\n",
              "      <td>0.5</td>\n",
              "      <td>0.81</td>\n",
              "    </tr>\n",
              "    <tr>\n",
              "      <th>min</th>\n",
              "      <td>10.08</td>\n",
              "      <td>1.00</td>\n",
              "      <td>0.51</td>\n",
              "      <td>10.68</td>\n",
              "      <td>10.17</td>\n",
              "      <td>4.76e+00</td>\n",
              "      <td>0.51</td>\n",
              "      <td>4.00</td>\n",
              "      <td>1.00</td>\n",
              "      <td>1.00</td>\n",
              "      <td>0.0</td>\n",
              "      <td>0.0</td>\n",
              "      <td>1.00</td>\n",
              "    </tr>\n",
              "    <tr>\n",
              "      <th>25%</th>\n",
              "      <td>32.88</td>\n",
              "      <td>3.00</td>\n",
              "      <td>5.92</td>\n",
              "      <td>124.42</td>\n",
              "      <td>118.50</td>\n",
              "      <td>4.76e+00</td>\n",
              "      <td>5.92</td>\n",
              "      <td>5.50</td>\n",
              "      <td>1.00</td>\n",
              "      <td>1.00</td>\n",
              "      <td>0.0</td>\n",
              "      <td>0.0</td>\n",
              "      <td>1.00</td>\n",
              "    </tr>\n",
              "    <tr>\n",
              "      <th>50%</th>\n",
              "      <td>55.23</td>\n",
              "      <td>5.00</td>\n",
              "      <td>12.09</td>\n",
              "      <td>253.85</td>\n",
              "      <td>241.76</td>\n",
              "      <td>4.76e+00</td>\n",
              "      <td>12.09</td>\n",
              "      <td>7.00</td>\n",
              "      <td>2.00</td>\n",
              "      <td>2.00</td>\n",
              "      <td>1.0</td>\n",
              "      <td>0.0</td>\n",
              "      <td>2.00</td>\n",
              "    </tr>\n",
              "    <tr>\n",
              "      <th>75%</th>\n",
              "      <td>77.94</td>\n",
              "      <td>8.00</td>\n",
              "      <td>22.45</td>\n",
              "      <td>471.35</td>\n",
              "      <td>448.91</td>\n",
              "      <td>4.76e+00</td>\n",
              "      <td>22.45</td>\n",
              "      <td>8.50</td>\n",
              "      <td>3.00</td>\n",
              "      <td>3.00</td>\n",
              "      <td>1.0</td>\n",
              "      <td>1.0</td>\n",
              "      <td>3.00</td>\n",
              "    </tr>\n",
              "    <tr>\n",
              "      <th>max</th>\n",
              "      <td>99.96</td>\n",
              "      <td>10.00</td>\n",
              "      <td>49.65</td>\n",
              "      <td>1042.65</td>\n",
              "      <td>993.00</td>\n",
              "      <td>4.76e+00</td>\n",
              "      <td>49.65</td>\n",
              "      <td>10.00</td>\n",
              "      <td>3.00</td>\n",
              "      <td>3.00</td>\n",
              "      <td>1.0</td>\n",
              "      <td>1.0</td>\n",
              "      <td>3.00</td>\n",
              "    </tr>\n",
              "  </tbody>\n",
              "</table>\n",
              "</div>"
            ],
            "text/plain": [
              "       Unit price  Quantity   Tax 5%    Total     cogs  \\\n",
              "count     1000.00   1000.00  1000.00  1000.00  1000.00   \n",
              "mean        55.67      5.51    15.38   322.97   307.59   \n",
              "std         26.49      2.92    11.71   245.89   234.18   \n",
              "min         10.08      1.00     0.51    10.68    10.17   \n",
              "25%         32.88      3.00     5.92   124.42   118.50   \n",
              "50%         55.23      5.00    12.09   253.85   241.76   \n",
              "75%         77.94      8.00    22.45   471.35   448.91   \n",
              "max         99.96     10.00    49.65  1042.65   993.00   \n",
              "\n",
              "       gross margin percentage  gross income   Rating  Branch_Value  \\\n",
              "count                 1.00e+03       1000.00  1000.00       1000.00   \n",
              "mean                  4.76e+00         15.38     6.97          1.99   \n",
              "std                   6.22e-14         11.71     1.72          0.82   \n",
              "min                   4.76e+00          0.51     4.00          1.00   \n",
              "25%                   4.76e+00          5.92     5.50          1.00   \n",
              "50%                   4.76e+00         12.09     7.00          2.00   \n",
              "75%                   4.76e+00         22.45     8.50          3.00   \n",
              "max                   4.76e+00         49.65    10.00          3.00   \n",
              "\n",
              "       City_Value  Customer_Value  Gender_Value  Payment_Value  \n",
              "count     1000.00          1000.0        1000.0        1000.00  \n",
              "mean         1.99             0.5           0.5           2.03  \n",
              "std          0.82             0.5           0.5           0.81  \n",
              "min          1.00             0.0           0.0           1.00  \n",
              "25%          1.00             0.0           0.0           1.00  \n",
              "50%          2.00             1.0           0.0           2.00  \n",
              "75%          3.00             1.0           1.0           3.00  \n",
              "max          3.00             1.0           1.0           3.00  "
            ]
          },
          "metadata": {
            "tags": []
          },
          "execution_count": 71
        }
      ]
    },
    {
      "cell_type": "code",
      "metadata": {
        "colab": {
          "base_uri": "https://localhost:8080/"
        },
        "id": "GcwQ3Z2dFrSS",
        "outputId": "e5d0b055-4e0e-430d-a9bd-696735294fb4"
      },
      "source": [
        "dados['Total'].groupby(dados['City']).sum()"
      ],
      "execution_count": null,
      "outputs": [
        {
          "output_type": "execute_result",
          "data": {
            "text/plain": [
              "City\n",
              "Mandalay     106197.67\n",
              "Naypyitaw    110568.71\n",
              "Yangon       106200.37\n",
              "Name: Total, dtype: float64"
            ]
          },
          "metadata": {
            "tags": []
          },
          "execution_count": 72
        }
      ]
    },
    {
      "cell_type": "code",
      "metadata": {
        "colab": {
          "base_uri": "https://localhost:8080/"
        },
        "id": "JRzx30jqHxjH",
        "outputId": "1b8fd50c-1017-42d5-e509-abafc5a34c78"
      },
      "source": [
        "dados['Total'].groupby(dados['Customer type']).sum()"
      ],
      "execution_count": null,
      "outputs": [
        {
          "output_type": "execute_result",
          "data": {
            "text/plain": [
              "Customer type\n",
              "Member    164223.44\n",
              "Normal    158743.31\n",
              "Name: Total, dtype: float64"
            ]
          },
          "metadata": {
            "tags": []
          },
          "execution_count": 73
        }
      ]
    },
    {
      "cell_type": "code",
      "metadata": {
        "colab": {
          "base_uri": "https://localhost:8080/"
        },
        "id": "DqWdudQnImrK",
        "outputId": "bc67cb3f-c2c8-4156-91cf-4f2cfd3d47f6"
      },
      "source": [
        "dados['Total'].groupby(dados['Date']).sum()"
      ],
      "execution_count": null,
      "outputs": [
        {
          "output_type": "execute_result",
          "data": {
            "text/plain": [
              "Date\n",
              "1/1/2019     4745.18\n",
              "1/10/2019    3560.95\n",
              "1/11/2019    2114.96\n",
              "1/12/2019    5184.76\n",
              "1/13/2019    2451.20\n",
              "1/14/2019    3966.62\n",
              "1/15/2019    5944.26\n",
              "1/16/2019    4289.08\n",
              "1/17/2019    3142.76\n",
              "1/18/2019    2780.47\n",
              "1/19/2019    4914.72\n",
              "1/2/2019     1945.50\n",
              "1/20/2019    3655.45\n",
              "1/21/2019    2392.10\n",
              "1/22/2019    1704.77\n",
              "1/23/2019    5994.19\n",
              "1/24/2019    5402.05\n",
              "1/25/2019    4700.37\n",
              "1/26/2019    4457.51\n",
              "1/27/2019    4635.90\n",
              "1/28/2019    4999.71\n",
              "1/29/2019    3516.57\n",
              "1/3/2019     2078.13\n",
              "1/30/2019    2558.26\n",
              "1/31/2019    5232.50\n",
              "1/4/2019     1623.69\n",
              "1/5/2019     3536.68\n",
              "1/6/2019     3614.20\n",
              "1/7/2019     2834.24\n",
              "1/8/2019     5293.73\n",
              "1/9/2019     3021.34\n",
              "2/1/2019     2444.54\n",
              "2/10/2019    3141.02\n",
              "2/11/2019    4542.15\n",
              "2/12/2019    2998.99\n",
              "2/13/2019     934.24\n",
              "2/14/2019    2454.09\n",
              "2/15/2019    6830.79\n",
              "2/16/2019    2503.77\n",
              "2/17/2019    5299.57\n",
              "2/18/2019    1496.03\n",
              "2/19/2019    4228.12\n",
              "2/2/2019     4140.95\n",
              "2/20/2019    2706.42\n",
              "2/21/2019    1393.74\n",
              "2/22/2019    2442.31\n",
              "2/23/2019    2339.59\n",
              "2/24/2019    2722.46\n",
              "2/25/2019    4807.24\n",
              "2/26/2019    2408.16\n",
              "2/27/2019    5859.45\n",
              "2/28/2019    2097.02\n",
              "2/3/2019     5467.93\n",
              "2/4/2019     2439.50\n",
              "2/5/2019     3031.13\n",
              "2/6/2019     2905.42\n",
              "2/7/2019     7228.21\n",
              "2/8/2019     5084.66\n",
              "2/9/2019     3271.89\n",
              "3/1/2019     2634.37\n",
              "3/10/2019    3163.23\n",
              "3/11/2019    2961.25\n",
              "3/12/2019    3677.55\n",
              "3/13/2019    2063.61\n",
              "3/14/2019    7214.63\n",
              "3/15/2019    2942.41\n",
              "3/16/2019    3154.47\n",
              "3/17/2019    1976.29\n",
              "3/18/2019    1292.83\n",
              "3/19/2019    5740.39\n",
              "3/2/2019     6560.31\n",
              "3/20/2019    5458.20\n",
              "3/21/2019    1877.52\n",
              "3/22/2019    3179.15\n",
              "3/23/2019    4095.04\n",
              "3/24/2019    3477.46\n",
              "3/25/2019    2272.97\n",
              "3/26/2019    1962.51\n",
              "3/27/2019    2902.82\n",
              "3/28/2019    2229.40\n",
              "3/29/2019    4023.24\n",
              "3/3/2019     4853.17\n",
              "3/30/2019    4487.06\n",
              "3/4/2019     3894.44\n",
              "3/5/2019     6230.88\n",
              "3/6/2019     3092.60\n",
              "3/7/2019     1438.26\n",
              "3/8/2019     3125.39\n",
              "3/9/2019     7474.05\n",
              "Name: Total, dtype: float64"
            ]
          },
          "metadata": {
            "tags": []
          },
          "execution_count": 74
        }
      ]
    },
    {
      "cell_type": "code",
      "metadata": {
        "colab": {
          "base_uri": "https://localhost:8080/"
        },
        "id": "_BaDh2-PIwVu",
        "outputId": "7562bbdf-aee2-4f7a-a510-43c5565f15ea"
      },
      "source": [
        "dados['Total'].groupby(dados['Branch']).sum()"
      ],
      "execution_count": null,
      "outputs": [
        {
          "output_type": "execute_result",
          "data": {
            "text/plain": [
              "Branch\n",
              "A    106200.37\n",
              "B    106197.67\n",
              "C    110568.71\n",
              "Name: Total, dtype: float64"
            ]
          },
          "metadata": {
            "tags": []
          },
          "execution_count": 31
        }
      ]
    },
    {
      "cell_type": "code",
      "metadata": {
        "colab": {
          "base_uri": "https://localhost:8080/"
        },
        "id": "e440Zpq3Vuya",
        "outputId": "3b698364-94cf-47aa-fa6e-1c36e284adab"
      },
      "source": [
        "dados['Total'].groupby(dados['Payment']).sum()"
      ],
      "execution_count": null,
      "outputs": [
        {
          "output_type": "execute_result",
          "data": {
            "text/plain": [
              "Payment\n",
              "Cash           112206.57\n",
              "Credit card    100767.07\n",
              "Ewallet        109993.11\n",
              "Name: Total, dtype: float64"
            ]
          },
          "metadata": {
            "tags": []
          },
          "execution_count": 66
        }
      ]
    },
    {
      "cell_type": "code",
      "metadata": {
        "colab": {
          "base_uri": "https://localhost:8080/"
        },
        "id": "gUifxLcyJ9JG",
        "outputId": "e1e0f01c-87e0-4a39-f5c3-72a9cdfdb49a"
      },
      "source": [
        "dados['Invoice ID'].groupby(dados['Product line']).count()"
      ],
      "execution_count": null,
      "outputs": [
        {
          "output_type": "execute_result",
          "data": {
            "text/plain": [
              "Product line\n",
              "Electronic accessories    170\n",
              "Fashion accessories       178\n",
              "Food and beverages        174\n",
              "Health and beauty         152\n",
              "Home and lifestyle        160\n",
              "Sports and travel         166\n",
              "Name: Invoice ID, dtype: int64"
            ]
          },
          "metadata": {
            "tags": []
          },
          "execution_count": 32
        }
      ]
    },
    {
      "cell_type": "code",
      "metadata": {
        "colab": {
          "base_uri": "https://localhost:8080/"
        },
        "id": "-4mOc1B6Klq-",
        "outputId": "ead623a9-a3eb-497f-84b7-7f3cb2cb7701"
      },
      "source": [
        "dados['Invoice ID'].groupby(dados['Gender']).count()"
      ],
      "execution_count": null,
      "outputs": [
        {
          "output_type": "execute_result",
          "data": {
            "text/plain": [
              "Gender\n",
              "Female    501\n",
              "Male      499\n",
              "Name: Invoice ID, dtype: int64"
            ]
          },
          "metadata": {
            "tags": []
          },
          "execution_count": 34
        }
      ]
    },
    {
      "cell_type": "code",
      "metadata": {
        "id": "Pgi5h8SWK08E"
      },
      "source": [
        "#variaveis = ['Branch_Value','City_Value','Customer_Value','Gender_Value','Payment_Value','Rating']\n",
        "#variaveis = ['Branch_Value','City_Value','Gender_Value','Payment_Value','Rating']\n",
        "#variaveis = ['Branch_Value','City_Value','Customer_Value','Payment_Value']\n",
        "variaveis = ['City_Value','Customer_Value','Gender_Value','Payment_Value','Rating']\n",
        "x = dados[variaveis]\n",
        "y = dados['Quantity']"
      ],
      "execution_count": null,
      "outputs": []
    },
    {
      "cell_type": "code",
      "metadata": {
        "id": "9zRJJqbyMJbR"
      },
      "source": [
        "x_train, x_test, y_train, y_test = train_test_split(x, y, test_size=0.5, random_state =0)"
      ],
      "execution_count": null,
      "outputs": []
    },
    {
      "cell_type": "code",
      "metadata": {
        "colab": {
          "base_uri": "https://localhost:8080/"
        },
        "id": "ctFImFO7Mdow",
        "outputId": "64579dce-9b6c-4af8-a441-eca3db78c22a"
      },
      "source": [
        "print('X_train: {0}\\n'.format(x_train.shape))\n",
        "print('X_test: {0}\\n'.format(x_test.shape))\n",
        "print('y_train: {0}\\n'.format(y_train.shape))\n",
        "print('y_test: {0}\\n'.format(y_test.shape))"
      ],
      "execution_count": null,
      "outputs": [
        {
          "output_type": "stream",
          "text": [
            "X_train: (500, 5)\n",
            "\n",
            "X_test: (500, 5)\n",
            "\n",
            "y_train: (500,)\n",
            "\n",
            "y_test: (500,)\n",
            "\n"
          ],
          "name": "stdout"
        }
      ]
    },
    {
      "cell_type": "code",
      "metadata": {
        "id": "KzOf-IXrMoSa"
      },
      "source": [
        "modelo_gb = GaussianNB()"
      ],
      "execution_count": null,
      "outputs": []
    },
    {
      "cell_type": "code",
      "metadata": {
        "colab": {
          "base_uri": "https://localhost:8080/"
        },
        "id": "7V1LIx4QNUgM",
        "outputId": "a840910e-4e0b-46b5-d8ac-d2d6f2ba1f38"
      },
      "source": [
        "modelo_gb.fit(x_train, y_train)"
      ],
      "execution_count": null,
      "outputs": [
        {
          "output_type": "execute_result",
          "data": {
            "text/plain": [
              "GaussianNB(priors=None, var_smoothing=1e-09)"
            ]
          },
          "metadata": {
            "tags": []
          },
          "execution_count": 277
        }
      ]
    },
    {
      "cell_type": "code",
      "metadata": {
        "id": "pkO49nfGNctJ"
      },
      "source": [
        "y_prec_gb = modelo_gb.predict(x_test)"
      ],
      "execution_count": null,
      "outputs": []
    },
    {
      "cell_type": "code",
      "metadata": {
        "id": "KmZmo_XXT9dh"
      },
      "source": [
        "modelo_rf = RandomForestClassifier(n_estimators=100,random_state=0,n_jobs=-1)"
      ],
      "execution_count": null,
      "outputs": []
    },
    {
      "cell_type": "code",
      "metadata": {
        "colab": {
          "base_uri": "https://localhost:8080/"
        },
        "id": "k7OMJNmcUXU2",
        "outputId": "4c35953c-813b-45a2-a841-f7b4da3bfc80"
      },
      "source": [
        "modelo_rf.fit(x_train, y_train)"
      ],
      "execution_count": null,
      "outputs": [
        {
          "output_type": "execute_result",
          "data": {
            "text/plain": [
              "RandomForestClassifier(bootstrap=True, ccp_alpha=0.0, class_weight=None,\n",
              "                       criterion='gini', max_depth=None, max_features='auto',\n",
              "                       max_leaf_nodes=None, max_samples=None,\n",
              "                       min_impurity_decrease=0.0, min_impurity_split=None,\n",
              "                       min_samples_leaf=1, min_samples_split=2,\n",
              "                       min_weight_fraction_leaf=0.0, n_estimators=100,\n",
              "                       n_jobs=-1, oob_score=False, random_state=0, verbose=0,\n",
              "                       warm_start=False)"
            ]
          },
          "metadata": {
            "tags": []
          },
          "execution_count": 280
        }
      ]
    },
    {
      "cell_type": "code",
      "metadata": {
        "id": "KRlqD2pFUiks"
      },
      "source": [
        "y_prec_rf = modelo_rf.predict(x_test)"
      ],
      "execution_count": null,
      "outputs": []
    },
    {
      "cell_type": "code",
      "metadata": {
        "id": "ypROI-QfVhyw"
      },
      "source": [
        "modelo_dt = DecisionTreeClassifier()"
      ],
      "execution_count": null,
      "outputs": []
    },
    {
      "cell_type": "code",
      "metadata": {
        "colab": {
          "base_uri": "https://localhost:8080/"
        },
        "id": "gr7hQVEiXotD",
        "outputId": "0fc97d40-f503-4bb2-9429-190388be0d62"
      },
      "source": [
        "modelo_dt.fit(x_train, y_train)"
      ],
      "execution_count": null,
      "outputs": [
        {
          "output_type": "execute_result",
          "data": {
            "text/plain": [
              "DecisionTreeClassifier(ccp_alpha=0.0, class_weight=None, criterion='gini',\n",
              "                       max_depth=None, max_features=None, max_leaf_nodes=None,\n",
              "                       min_impurity_decrease=0.0, min_impurity_split=None,\n",
              "                       min_samples_leaf=1, min_samples_split=2,\n",
              "                       min_weight_fraction_leaf=0.0, presort='deprecated',\n",
              "                       random_state=None, splitter='best')"
            ]
          },
          "metadata": {
            "tags": []
          },
          "execution_count": 283
        }
      ]
    },
    {
      "cell_type": "code",
      "metadata": {
        "id": "yvccd5-vXw2i"
      },
      "source": [
        "y_prec_dt = modelo_dt.predict(x_test)"
      ],
      "execution_count": null,
      "outputs": []
    },
    {
      "cell_type": "code",
      "metadata": {
        "colab": {
          "base_uri": "https://localhost:8080/"
        },
        "id": "x4_Ki-DcS2EC",
        "outputId": "b88186c6-f31c-457b-eb4f-e596ddbd0dfa"
      },
      "source": [
        "print('Acuracia GB:',accuracy_score(y_test, y_prec_gb) * 100)\n",
        "print('Acuracia RF:',accuracy_score(y_test, y_prec_rf) * 100)\n",
        "print('Acuracia DT:',accuracy_score(y_test, y_prec_dt) * 100)"
      ],
      "execution_count": null,
      "outputs": [
        {
          "output_type": "stream",
          "text": [
            "Acuracia GB: 13.200000000000001\n",
            "Acuracia RF: 12.2\n",
            "Acuracia DT: 12.6\n"
          ],
          "name": "stdout"
        }
      ]
    },
    {
      "cell_type": "code",
      "metadata": {
        "colab": {
          "base_uri": "https://localhost:8080/",
          "height": 283
        },
        "id": "ZpDPnpeWidcx",
        "outputId": "bed15a88-4c2a-4f4f-db2c-9d91a4df2469"
      },
      "source": [
        "dados[variaveis].plot()"
      ],
      "execution_count": null,
      "outputs": [
        {
          "output_type": "execute_result",
          "data": {
            "text/plain": [
              "<matplotlib.axes._subplots.AxesSubplot at 0x7fa6a6dd7790>"
            ]
          },
          "metadata": {
            "tags": []
          },
          "execution_count": 291
        },
        {
          "output_type": "display_data",
          "data": {
            "image/png": "[encoded data removed]",
            "text/plain": [
              "<Figure size 432x288 with 1 Axes>"
            ]
          },
          "metadata": {
            "tags": [],
            "needs_background": "light"
          }
        }
      ]
    },
    {
      "cell_type": "code",
      "metadata": {
        "id": "J6hhDefGijIB"
      },
      "source": [
        ""
      ],
      "execution_count": null,
      "outputs": []
    }
  ]
}