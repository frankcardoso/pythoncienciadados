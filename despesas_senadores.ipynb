{
  "nbformat": 4,
  "nbformat_minor": 0,
  "metadata": {
    "colab": {
      "name": "despesas_senadores.ipynb",
      "provenance": [],
      "authorship_tag": "ABX9TyP+gWHtjucxywfdz9OAicp5",
      "include_colab_link": true
    },
    "kernelspec": {
      "name": "python3",
      "display_name": "Python 3"
    }
  },
  "cells": [
    {
      "cell_type": "markdown",
      "metadata": {
        "id": "view-in-github",
        "colab_type": "text"
      },
      "source": [
        "<a href=\"https://colab.research.google.com/github/frankcardoso/pythoncienciadados/blob/main/despesas_senadores.ipynb\" target=\"_parent\"><img src=\"https://colab.research.google.com/assets/colab-badge.svg\" alt=\"Open In Colab\"/></a>"
      ]
    },
    {
      "cell_type": "code",
      "metadata": {
        "id": "5ZtI6l2gF2y9"
      },
      "source": [
        "import pandas as pd\n",
        "%matplotlib inline"
      ],
      "execution_count": null,
      "outputs": []
    },
    {
      "cell_type": "code",
      "metadata": {
        "colab": {
          "base_uri": "https://localhost:8080/",
          "height": 293
        },
        "id": "H-zjuda0GsIr",
        "outputId": "1f7331c6-b76a-4af5-9715-da22fc7f27fc"
      },
      "source": [
        "csv = '/mnt/2020.csv'\n",
        "\n",
        "df = pd.read_csv(csv, encoding='cp1252', sep=';',decimal =',', skiprows=1)\n",
        "df.head()"
      ],
      "execution_count": null,
      "outputs": [
        {
          "output_type": "execute_result",
          "data": {
            "text/html": [
              "<div>\n",
              "<style scoped>\n",
              "    .dataframe tbody tr th:only-of-type {\n",
              "        vertical-align: middle;\n",
              "    }\n",
              "\n",
              "    .dataframe tbody tr th {\n",
              "        vertical-align: top;\n",
              "    }\n",
              "\n",
              "    .dataframe thead th {\n",
              "        text-align: right;\n",
              "    }\n",
              "</style>\n",
              "<table border=\"1\" class=\"dataframe\">\n",
              "  <thead>\n",
              "    <tr style=\"text-align: right;\">\n",
              "      <th></th>\n",
              "      <th>ANO</th>\n",
              "      <th>MES</th>\n",
              "      <th>SENADOR</th>\n",
              "      <th>TIPO_DESPESA</th>\n",
              "      <th>CNPJ_CPF</th>\n",
              "      <th>FORNECEDOR</th>\n",
              "      <th>DOCUMENTO</th>\n",
              "      <th>DATA</th>\n",
              "      <th>DETALHAMENTO</th>\n",
              "      <th>VALOR_REEMBOLSADO</th>\n",
              "      <th>COD_DOCUMENTO</th>\n",
              "    </tr>\n",
              "  </thead>\n",
              "  <tbody>\n",
              "    <tr>\n",
              "      <th>0</th>\n",
              "      <td>2020</td>\n",
              "      <td>1</td>\n",
              "      <td>ACIR GURGACZ</td>\n",
              "      <td>Aluguel de imóveis para escritório político, c...</td>\n",
              "      <td>05.914.650/0001-66</td>\n",
              "      <td>ENERGISA</td>\n",
              "      <td>14764742</td>\n",
              "      <td>06/01/2020</td>\n",
              "      <td>Despesa com energia elétrica para uso do escri...</td>\n",
              "      <td>122.62</td>\n",
              "      <td>2141820</td>\n",
              "    </tr>\n",
              "    <tr>\n",
              "      <th>1</th>\n",
              "      <td>2020</td>\n",
              "      <td>1</td>\n",
              "      <td>ACIR GURGACZ</td>\n",
              "      <td>Aluguel de imóveis para escritório político, c...</td>\n",
              "      <td>05.914.650/0001-66</td>\n",
              "      <td>ENERGISA</td>\n",
              "      <td>14764741</td>\n",
              "      <td>06/01/2020</td>\n",
              "      <td>Despesa com energia elétrica para uso do escri...</td>\n",
              "      <td>137.75</td>\n",
              "      <td>2141818</td>\n",
              "    </tr>\n",
              "    <tr>\n",
              "      <th>2</th>\n",
              "      <td>2020</td>\n",
              "      <td>1</td>\n",
              "      <td>ACIR GURGACZ</td>\n",
              "      <td>Aluguel de imóveis para escritório político, c...</td>\n",
              "      <td>062.135.728-64</td>\n",
              "      <td>FERNANDO WALDEIR PACINI e ANA LUCIA DA SILVA S...</td>\n",
              "      <td>001/2020</td>\n",
              "      <td>06/01/2020</td>\n",
              "      <td>Despesa com pagamento de aluguel de imóvel par...</td>\n",
              "      <td>1000.00</td>\n",
              "      <td>2139025</td>\n",
              "    </tr>\n",
              "    <tr>\n",
              "      <th>3</th>\n",
              "      <td>2020</td>\n",
              "      <td>1</td>\n",
              "      <td>ACIR GURGACZ</td>\n",
              "      <td>Aluguel de imóveis para escritório político, c...</td>\n",
              "      <td>004.948.028-63</td>\n",
              "      <td>GILBERTO PISELO DO NASCIMENTO</td>\n",
              "      <td>001/20</td>\n",
              "      <td>02/01/2020</td>\n",
              "      <td>Despesa com pagamento de aluguel de imóvel par...</td>\n",
              "      <td>6000.00</td>\n",
              "      <td>2139020</td>\n",
              "    </tr>\n",
              "    <tr>\n",
              "      <th>4</th>\n",
              "      <td>2020</td>\n",
              "      <td>1</td>\n",
              "      <td>ACIR GURGACZ</td>\n",
              "      <td>Aluguel de imóveis para escritório político, c...</td>\n",
              "      <td>05.423.963/0001-11</td>\n",
              "      <td>OI MÓVEL S.A.</td>\n",
              "      <td>333871612</td>\n",
              "      <td>25/12/2019</td>\n",
              "      <td>Despesa com pagamento de telefone para uso do ...</td>\n",
              "      <td>323.95</td>\n",
              "      <td>2139044</td>\n",
              "    </tr>\n",
              "  </tbody>\n",
              "</table>\n",
              "</div>"
            ],
            "text/plain": [
              "    ANO  MES  ... VALOR_REEMBOLSADO COD_DOCUMENTO\n",
              "0  2020    1  ...            122.62       2141820\n",
              "1  2020    1  ...            137.75       2141818\n",
              "2  2020    1  ...           1000.00       2139025\n",
              "3  2020    1  ...           6000.00       2139020\n",
              "4  2020    1  ...            323.95       2139044\n",
              "\n",
              "[5 rows x 11 columns]"
            ]
          },
          "metadata": {
            "tags": []
          },
          "execution_count": 13
        }
      ]
    },
    {
      "cell_type": "code",
      "metadata": {
        "colab": {
          "base_uri": "https://localhost:8080/",
          "height": 293
        },
        "id": "JzPm8hWbG_e6",
        "outputId": "b38c5767-2211-42b5-9e87-2ca8ea877787"
      },
      "source": [
        "df.tail()"
      ],
      "execution_count": null,
      "outputs": [
        {
          "output_type": "execute_result",
          "data": {
            "text/html": [
              "<div>\n",
              "<style scoped>\n",
              "    .dataframe tbody tr th:only-of-type {\n",
              "        vertical-align: middle;\n",
              "    }\n",
              "\n",
              "    .dataframe tbody tr th {\n",
              "        vertical-align: top;\n",
              "    }\n",
              "\n",
              "    .dataframe thead th {\n",
              "        text-align: right;\n",
              "    }\n",
              "</style>\n",
              "<table border=\"1\" class=\"dataframe\">\n",
              "  <thead>\n",
              "    <tr style=\"text-align: right;\">\n",
              "      <th></th>\n",
              "      <th>ANO</th>\n",
              "      <th>MES</th>\n",
              "      <th>SENADOR</th>\n",
              "      <th>TIPO_DESPESA</th>\n",
              "      <th>CNPJ_CPF</th>\n",
              "      <th>FORNECEDOR</th>\n",
              "      <th>DOCUMENTO</th>\n",
              "      <th>DATA</th>\n",
              "      <th>DETALHAMENTO</th>\n",
              "      <th>VALOR_REEMBOLSADO</th>\n",
              "      <th>COD_DOCUMENTO</th>\n",
              "    </tr>\n",
              "  </thead>\n",
              "  <tbody>\n",
              "    <tr>\n",
              "      <th>11146</th>\n",
              "      <td>2020</td>\n",
              "      <td>10</td>\n",
              "      <td>ZEQUINHA MARINHO</td>\n",
              "      <td>Passagens aéreas, aquáticas e terrestres nacio...</td>\n",
              "      <td>22.052.777/0001-32</td>\n",
              "      <td>Exceller Tour</td>\n",
              "      <td>IN17VW</td>\n",
              "      <td>21/10/2020</td>\n",
              "      <td>Companhia Aérea: GOL, Localizador: IN17VW. Pas...</td>\n",
              "      <td>655.09</td>\n",
              "      <td>2150453</td>\n",
              "    </tr>\n",
              "    <tr>\n",
              "      <th>11147</th>\n",
              "      <td>2020</td>\n",
              "      <td>10</td>\n",
              "      <td>ZEQUINHA MARINHO</td>\n",
              "      <td>Passagens aéreas, aquáticas e terrestres nacio...</td>\n",
              "      <td>22.052.777/0001-32</td>\n",
              "      <td>Exceller Tour</td>\n",
              "      <td>XMYHNM</td>\n",
              "      <td>22/10/2020</td>\n",
              "      <td>Companhia Aérea: GOL, Localizador: XMYHNM. Pas...</td>\n",
              "      <td>712.42</td>\n",
              "      <td>2150780</td>\n",
              "    </tr>\n",
              "    <tr>\n",
              "      <th>11148</th>\n",
              "      <td>2020</td>\n",
              "      <td>10</td>\n",
              "      <td>ZEQUINHA MARINHO</td>\n",
              "      <td>Passagens aéreas, aquáticas e terrestres nacio...</td>\n",
              "      <td>22.052.777/0001-32</td>\n",
              "      <td>Exceller Tour</td>\n",
              "      <td>CMKC4B</td>\n",
              "      <td>22/10/2020</td>\n",
              "      <td>Companhia Aérea: AZUL, Localizador: CMKC4B. Pa...</td>\n",
              "      <td>1663.46</td>\n",
              "      <td>2151521</td>\n",
              "    </tr>\n",
              "    <tr>\n",
              "      <th>11149</th>\n",
              "      <td>2020</td>\n",
              "      <td>11</td>\n",
              "      <td>ZEQUINHA MARINHO</td>\n",
              "      <td>Locomoção, hospedagem, alimentação, combustíve...</td>\n",
              "      <td>05.897.794/0001-51</td>\n",
              "      <td>STILUS TÁXI AEREO LTDA.</td>\n",
              "      <td>000.001.718</td>\n",
              "      <td>04/11/2020</td>\n",
              "      <td>NaN</td>\n",
              "      <td>8000.00</td>\n",
              "      <td>2151520</td>\n",
              "    </tr>\n",
              "    <tr>\n",
              "      <th>11150</th>\n",
              "      <td>2020</td>\n",
              "      <td>11</td>\n",
              "      <td>ZEQUINHA MARINHO</td>\n",
              "      <td>Passagens aéreas, aquáticas e terrestres nacio...</td>\n",
              "      <td>22.052.777/0001-32</td>\n",
              "      <td>Exceller Tour</td>\n",
              "      <td>XMYHNM</td>\n",
              "      <td>11/11/2020</td>\n",
              "      <td>Companhia Aérea: GOL, Localizador: XMYHNM. Pas...</td>\n",
              "      <td>1872.10</td>\n",
              "      <td>2151519</td>\n",
              "    </tr>\n",
              "  </tbody>\n",
              "</table>\n",
              "</div>"
            ],
            "text/plain": [
              "        ANO  MES  ... VALOR_REEMBOLSADO COD_DOCUMENTO\n",
              "11146  2020   10  ...            655.09       2150453\n",
              "11147  2020   10  ...            712.42       2150780\n",
              "11148  2020   10  ...           1663.46       2151521\n",
              "11149  2020   11  ...           8000.00       2151520\n",
              "11150  2020   11  ...           1872.10       2151519\n",
              "\n",
              "[5 rows x 11 columns]"
            ]
          },
          "metadata": {
            "tags": []
          },
          "execution_count": 14
        }
      ]
    },
    {
      "cell_type": "code",
      "metadata": {
        "colab": {
          "base_uri": "https://localhost:8080/",
          "height": 300
        },
        "id": "pQ4LA04rR1Ek",
        "outputId": "6903d696-ebaa-46a5-b69f-d2b2715483df"
      },
      "source": [
        "df.describe()"
      ],
      "execution_count": null,
      "outputs": [
        {
          "output_type": "execute_result",
          "data": {
            "text/html": [
              "<div>\n",
              "<style scoped>\n",
              "    .dataframe tbody tr th:only-of-type {\n",
              "        vertical-align: middle;\n",
              "    }\n",
              "\n",
              "    .dataframe tbody tr th {\n",
              "        vertical-align: top;\n",
              "    }\n",
              "\n",
              "    .dataframe thead th {\n",
              "        text-align: right;\n",
              "    }\n",
              "</style>\n",
              "<table border=\"1\" class=\"dataframe\">\n",
              "  <thead>\n",
              "    <tr style=\"text-align: right;\">\n",
              "      <th></th>\n",
              "      <th>ANO</th>\n",
              "      <th>MES</th>\n",
              "      <th>VALOR_REEMBOLSADO</th>\n",
              "      <th>COD_DOCUMENTO</th>\n",
              "    </tr>\n",
              "  </thead>\n",
              "  <tbody>\n",
              "    <tr>\n",
              "      <th>count</th>\n",
              "      <td>11151.0</td>\n",
              "      <td>11151.000000</td>\n",
              "      <td>11151.000000</td>\n",
              "      <td>1.115100e+04</td>\n",
              "    </tr>\n",
              "    <tr>\n",
              "      <th>mean</th>\n",
              "      <td>2020.0</td>\n",
              "      <td>5.238275</td>\n",
              "      <td>1358.883370</td>\n",
              "      <td>2.145366e+06</td>\n",
              "    </tr>\n",
              "    <tr>\n",
              "      <th>std</th>\n",
              "      <td>0.0</td>\n",
              "      <td>3.051015</td>\n",
              "      <td>2769.193691</td>\n",
              "      <td>3.664327e+03</td>\n",
              "    </tr>\n",
              "    <tr>\n",
              "      <th>min</th>\n",
              "      <td>2020.0</td>\n",
              "      <td>1.000000</td>\n",
              "      <td>0.010000</td>\n",
              "      <td>2.138459e+06</td>\n",
              "    </tr>\n",
              "    <tr>\n",
              "      <th>25%</th>\n",
              "      <td>2020.0</td>\n",
              "      <td>2.000000</td>\n",
              "      <td>150.000000</td>\n",
              "      <td>2.142236e+06</td>\n",
              "    </tr>\n",
              "    <tr>\n",
              "      <th>50%</th>\n",
              "      <td>2020.0</td>\n",
              "      <td>5.000000</td>\n",
              "      <td>395.000000</td>\n",
              "      <td>2.145439e+06</td>\n",
              "    </tr>\n",
              "    <tr>\n",
              "      <th>75%</th>\n",
              "      <td>2020.0</td>\n",
              "      <td>8.000000</td>\n",
              "      <td>1443.735000</td>\n",
              "      <td>2.148486e+06</td>\n",
              "    </tr>\n",
              "    <tr>\n",
              "      <th>max</th>\n",
              "      <td>2020.0</td>\n",
              "      <td>11.000000</td>\n",
              "      <td>43000.000000</td>\n",
              "      <td>2.151780e+06</td>\n",
              "    </tr>\n",
              "  </tbody>\n",
              "</table>\n",
              "</div>"
            ],
            "text/plain": [
              "           ANO           MES  VALOR_REEMBOLSADO  COD_DOCUMENTO\n",
              "count  11151.0  11151.000000       11151.000000   1.115100e+04\n",
              "mean    2020.0      5.238275        1358.883370   2.145366e+06\n",
              "std        0.0      3.051015        2769.193691   3.664327e+03\n",
              "min     2020.0      1.000000           0.010000   2.138459e+06\n",
              "25%     2020.0      2.000000         150.000000   2.142236e+06\n",
              "50%     2020.0      5.000000         395.000000   2.145439e+06\n",
              "75%     2020.0      8.000000        1443.735000   2.148486e+06\n",
              "max     2020.0     11.000000       43000.000000   2.151780e+06"
            ]
          },
          "metadata": {
            "tags": []
          },
          "execution_count": 15
        }
      ]
    },
    {
      "cell_type": "code",
      "metadata": {
        "colab": {
          "base_uri": "https://localhost:8080/"
        },
        "id": "l-qEf6ikR34v",
        "outputId": "da9ef56e-6575-4985-f936-87a6b0ed8e5e"
      },
      "source": [
        "df.dtypes"
      ],
      "execution_count": null,
      "outputs": [
        {
          "output_type": "execute_result",
          "data": {
            "text/plain": [
              "ANO                    int64\n",
              "MES                    int64\n",
              "SENADOR               object\n",
              "TIPO_DESPESA          object\n",
              "CNPJ_CPF              object\n",
              "FORNECEDOR            object\n",
              "DOCUMENTO             object\n",
              "DATA                  object\n",
              "DETALHAMENTO          object\n",
              "VALOR_REEMBOLSADO    float64\n",
              "COD_DOCUMENTO          int64\n",
              "dtype: object"
            ]
          },
          "metadata": {
            "tags": []
          },
          "execution_count": 16
        }
      ]
    },
    {
      "cell_type": "code",
      "metadata": {
        "colab": {
          "base_uri": "https://localhost:8080/"
        },
        "id": "Bj0TCnRWR7c1",
        "outputId": "78fc0187-39f1-4575-9884-a11b77d1e825"
      },
      "source": [
        "df.shape"
      ],
      "execution_count": null,
      "outputs": [
        {
          "output_type": "execute_result",
          "data": {
            "text/plain": [
              "(11151, 11)"
            ]
          },
          "metadata": {
            "tags": []
          },
          "execution_count": 17
        }
      ]
    },
    {
      "cell_type": "code",
      "metadata": {
        "colab": {
          "base_uri": "https://localhost:8080/"
        },
        "id": "BWv3ogbiSHPi",
        "outputId": "4a55115c-3af0-4073-ef7f-d7dfe0decb69"
      },
      "source": [
        "df['ANO'].value_counts()"
      ],
      "execution_count": null,
      "outputs": [
        {
          "output_type": "execute_result",
          "data": {
            "text/plain": [
              "2020    11151\n",
              "Name: ANO, dtype: int64"
            ]
          },
          "metadata": {
            "tags": []
          },
          "execution_count": 26
        }
      ]
    },
    {
      "cell_type": "code",
      "metadata": {
        "colab": {
          "base_uri": "https://localhost:8080/"
        },
        "id": "9sNlY5ktStcR",
        "outputId": "58914e64-4fd8-4793-a137-7da119afd258"
      },
      "source": [
        "df['SENADOR'].value_counts()"
      ],
      "execution_count": null,
      "outputs": [
        {
          "output_type": "execute_result",
          "data": {
            "text/plain": [
              "CARLOS VIANA           455\n",
              "MAJOR OLIMPIO          353\n",
              "ZEQUINHA MARINHO       335\n",
              "JAQUES WAGNER          325\n",
              "TELMÁRIO MOTA          295\n",
              "                      ... \n",
              "OMAR AZIZ               19\n",
              "STYVENSON VALENTIM      16\n",
              "ALVARO DIAS             15\n",
              "JADER BARBALHO          12\n",
              "ORIOVISTO GUIMARÃES      1\n",
              "Name: SENADOR, Length: 81, dtype: int64"
            ]
          },
          "metadata": {
            "tags": []
          },
          "execution_count": 27
        }
      ]
    },
    {
      "cell_type": "code",
      "metadata": {
        "colab": {
          "base_uri": "https://localhost:8080/"
        },
        "id": "g4zHugICSyxZ",
        "outputId": "d6ea776f-6d3f-4c57-f26d-807156c674da"
      },
      "source": [
        "df['FORNECEDOR'].value_counts()"
      ],
      "execution_count": null,
      "outputs": [
        {
          "output_type": "execute_result",
          "data": {
            "text/plain": [
              "ADRIA VIAGENS E TURISMO LTDA      225\n",
              "LATAM                             215\n",
              "GOL                               132\n",
              "CLARO S.A.                         80\n",
              "Adria Viagens e Turismo Ltda.      73\n",
              "                                 ... \n",
              "AUTO POSTO JARDINS LTDA             1\n",
              "Joao Paulo Umburanas Souza          1\n",
              "Posto Santo Expedito LTDA           1\n",
              "Longo Comercio de Combustiveis      1\n",
              "Xhow Alimentos LTDA                 1\n",
              "Name: FORNECEDOR, Length: 2257, dtype: int64"
            ]
          },
          "metadata": {
            "tags": []
          },
          "execution_count": 28
        }
      ]
    },
    {
      "cell_type": "code",
      "metadata": {
        "colab": {
          "base_uri": "https://localhost:8080/"
        },
        "id": "SkOt2LknS7uz",
        "outputId": "30c622cf-2e00-4706-9240-0aa4d0902915"
      },
      "source": [
        "df_mes = df.groupby('MES')['VALOR_REEMBOLSADO'].sum()\n",
        "df_mes.head()"
      ],
      "execution_count": null,
      "outputs": [
        {
          "output_type": "execute_result",
          "data": {
            "text/plain": [
              "MES\n",
              "1    1346619.84\n",
              "2    1945761.47\n",
              "3    1841796.66\n",
              "4    1317744.33\n",
              "5    1367644.64\n",
              "Name: VALOR_REEMBOLSADO, dtype: float64"
            ]
          },
          "metadata": {
            "tags": []
          },
          "execution_count": 29
        }
      ]
    },
    {
      "cell_type": "code",
      "metadata": {
        "colab": {
          "base_uri": "https://localhost:8080/",
          "height": 308
        },
        "id": "_-FoVtgGTMgM",
        "outputId": "9e1587ed-0241-464c-d991-ca40813d7b34"
      },
      "source": [
        "df_mes.plot()"
      ],
      "execution_count": null,
      "outputs": [
        {
          "output_type": "execute_result",
          "data": {
            "text/plain": [
              "<matplotlib.axes._subplots.AxesSubplot at 0x7f6d85663518>"
            ]
          },
          "metadata": {
            "tags": []
          },
          "execution_count": 30
        },
        {
          "output_type": "display_data",
          "data": {
            "image/png": "[encoded data removed]",
            "text/plain": [
              "<Figure size 432x288 with 1 Axes>"
            ]
          },
          "metadata": {
            "tags": [],
            "needs_background": "light"
          }
        }
      ]
    },
    {
      "cell_type": "code",
      "metadata": {
        "colab": {
          "base_uri": "https://localhost:8080/",
          "height": 311
        },
        "id": "IHIchczwTVWY",
        "outputId": "7b8bf3ff-7c44-4573-a5bf-7ce37c0d6f85"
      },
      "source": [
        "df_mes.plot.bar()"
      ],
      "execution_count": null,
      "outputs": [
        {
          "output_type": "execute_result",
          "data": {
            "text/plain": [
              "<matplotlib.axes._subplots.AxesSubplot at 0x7f6d855b1be0>"
            ]
          },
          "metadata": {
            "tags": []
          },
          "execution_count": 31
        },
        {
          "output_type": "display_data",
          "data": {
            "image/png": "[encoded data removed]",
            "text/plain": [
              "<Figure size 432x288 with 1 Axes>"
            ]
          },
          "metadata": {
            "tags": [],
            "needs_background": "light"
          }
        }
      ]
    },
    {
      "cell_type": "code",
      "metadata": {
        "colab": {
          "base_uri": "https://localhost:8080/",
          "height": 296
        },
        "id": "SmHLVhkqTYvF",
        "outputId": "3ef0f2e1-b5b5-4197-c85d-7bbe52009743"
      },
      "source": [
        "df_mes.plot.barh()"
      ],
      "execution_count": null,
      "outputs": [
        {
          "output_type": "execute_result",
          "data": {
            "text/plain": [
              "<matplotlib.axes._subplots.AxesSubplot at 0x7f6d85585b38>"
            ]
          },
          "metadata": {
            "tags": []
          },
          "execution_count": 32
        },
        {
          "output_type": "display_data",
          "data": {
            "image/png": "[encoded data removed]",
            "text/plain": [
              "<Figure size 432x288 with 1 Axes>"
            ]
          },
          "metadata": {
            "tags": [],
            "needs_background": "light"
          }
        }
      ]
    },
    {
      "cell_type": "code",
      "metadata": {
        "colab": {
          "base_uri": "https://localhost:8080/",
          "height": 266
        },
        "id": "esHUFoHTTbkV",
        "outputId": "ba956b70-c767-4a4f-966d-dfc92274f5d6"
      },
      "source": [
        "df_mes.plot.pie()"
      ],
      "execution_count": null,
      "outputs": [
        {
          "output_type": "execute_result",
          "data": {
            "text/plain": [
              "<matplotlib.axes._subplots.AxesSubplot at 0x7f6d84fd0860>"
            ]
          },
          "metadata": {
            "tags": []
          },
          "execution_count": 33
        },
        {
          "output_type": "display_data",
          "data": {
            "image/png": "[encoded data removed]",
            "text/plain": [
              "<Figure size 432x288 with 1 Axes>"
            ]
          },
          "metadata": {
            "tags": []
          }
        }
      ]
    },
    {
      "cell_type": "code",
      "metadata": {
        "id": "OR9GxtLJTgCz"
      },
      "source": [
        ""
      ],
      "execution_count": null,
      "outputs": []
    }
  ]
}